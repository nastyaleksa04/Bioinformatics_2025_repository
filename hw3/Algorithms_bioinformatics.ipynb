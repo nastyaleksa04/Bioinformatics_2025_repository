{
 "cells": [
  {
   "cell_type": "code",
   "execution_count": 1,
   "metadata": {},
   "outputs": [],
   "source": [
    "seq1 = \"ATCGTAGC\"\n",
    "seq2 = \"ATCGTACG\"\n",
    "seq3 = \"GCTAGCTA\"\n",
    "seq4 = \"TACGATCG\"\n",
    "rna1 = \"AUGCUAGC\"\n",
    "rna2 = \"AUGCUGCA\"\n",
    "rna3 = \"GCUAGCUA\"\n",
    "rna4 = \"UACGAUCG\"\n",
    "protein1 = \"ACDEFGHIKLMNPQRSTVWY\"\n",
    "protein2 = \"ACDFGHIKLMNPRSTVWY\"\n",
    "protein3 = \"ACDEFGHLMNPQRSTVWX\"\n",
    "protein4 = \"ABCDEFGHIJKLMN\""
   ]
  },
  {
   "cell_type": "markdown",
   "metadata": {},
   "source": [
    "1. Алгоритм Нидлмана-Вунша"
   ]
  },
  {
   "cell_type": "code",
   "execution_count": 2,
   "metadata": {},
   "outputs": [],
   "source": [
    "def Niddleman_Woonsh(seq1, seq2, match_score=1, mismatch_score=-1, gap_score=-2):\n",
    "    \n",
    "    rows = len(seq1)+1\n",
    "    cols = len(seq2)+1\n",
    "    seq1_list = []\n",
    "    seq2_list = []\n",
    "\n",
    "    \n",
    "    matrix = [[0 for _ in range(cols)] for _ in range(rows)]\n",
    "    \n",
    "    for i in range(1, rows):\n",
    "        for j in range(1, cols):\n",
    "            matrix[0][j] =  matrix[0][j-1] + gap_score \n",
    "            matrix[i][0] = matrix[i-1][0] + gap_score\n",
    "            matrix[0][0] = 0\n",
    "\n",
    "            matrix[i][j] = max((matrix[i-1][j]+gap_score), ((matrix[i-1][j-1] + match_score) if seq1[i-1]==seq2[j-1] else (matrix[i-1][j-1] + mismatch_score)), matrix[i][j-1]+gap_score)\n",
    "        \n",
    "    i, j = rows-1, cols-1\n",
    "    while i > 0 or j > 0:\n",
    "        current_score = matrix[i][j]\n",
    "    \n",
    "        if i > 0 and j > 0 and (current_score == matrix[i-1][j-1] + (match_score if seq1[i-1] == seq2[j-1] else mismatch_score)):\n",
    "            seq1_list += seq1[i-1]\n",
    "            seq2_list += seq2[j-1]\n",
    "            i -= 1\n",
    "            j -= 1\n",
    "        \n",
    "        elif i > 0 and current_score == matrix[i-1][j] + gap_score:\n",
    "            seq1_list += seq1[i-1]\n",
    "            seq2_list += \"-\"\n",
    "            i -= 1\n",
    "      \n",
    "        elif j > 0 and current_score == matrix[i][j-1] + gap_score:\n",
    "            seq1_list += \"-\"\n",
    "            seq2_list += seq2[j-1]\n",
    "            j -= 1\n",
    "\n",
    "    return ' '.join(map(str, seq1_list[::-1])), ' '.join(map(str, seq2_list[::-1])), matrix, matrix[-1][-1]\n"
   ]
  },
  {
   "cell_type": "code",
   "execution_count": 3,
   "metadata": {},
   "outputs": [
    {
     "data": {
      "text/plain": [
       "('A U G C U A G C -',\n",
       " 'A U G C U - G C A',\n",
       " [[0, -2, -4, -6, -8, -10, -12, -14, -16],\n",
       "  [-2, 1, -1, -3, -5, -7, -9, -11, -13],\n",
       "  [-4, -1, 2, 0, -2, -4, -6, -8, -10],\n",
       "  [-6, -3, 0, 3, 1, -1, -3, -5, -7],\n",
       "  [-8, -5, -2, 1, 4, 2, 0, -2, -4],\n",
       "  [-10, -7, -4, -1, 2, 5, 3, 1, -1],\n",
       "  [-12, -9, -6, -3, 0, 3, 4, 2, 2],\n",
       "  [-14, -11, -8, -5, -2, 1, 4, 3, 1],\n",
       "  [-16, -13, -10, -7, -4, -1, 2, 5, 3]],\n",
       " 3)"
      ]
     },
     "execution_count": 3,
     "metadata": {},
     "output_type": "execute_result"
    }
   ],
   "source": [
    "Niddleman_Woonsh(rna1, rna2, match_score=1, mismatch_score=-1, gap_score=-2)"
   ]
  },
  {
   "cell_type": "code",
   "execution_count": 14,
   "metadata": {},
   "outputs": [
    {
     "data": {
      "text/plain": [
       "('A T C G T A G C',\n",
       " 'A T C G T A C G',\n",
       " [[0, -2, -4, -6, -8, -10, -12, -14, -16],\n",
       "  [-2, 1, -1, -3, -5, -7, -9, -11, -13],\n",
       "  [-4, -1, 2, 0, -2, -4, -6, -8, -10],\n",
       "  [-6, -3, 0, 3, 1, -1, -3, -5, -7],\n",
       "  [-8, -5, -2, 1, 4, 2, 0, -2, -4],\n",
       "  [-10, -7, -4, -1, 2, 5, 3, 1, -1],\n",
       "  [-12, -9, -6, -3, 0, 3, 6, 4, 2],\n",
       "  [-14, -11, -8, -5, -2, 1, 4, 5, 5],\n",
       "  [-16, -13, -10, -7, -4, -1, 2, 5, 4]],\n",
       " 4)"
      ]
     },
     "execution_count": 14,
     "metadata": {},
     "output_type": "execute_result"
    }
   ],
   "source": [
    "Niddleman_Woonsh(seq1, seq2, match_score=1, mismatch_score=-1, gap_score=-2)"
   ]
  },
  {
   "cell_type": "code",
   "execution_count": 5,
   "metadata": {},
   "outputs": [],
   "source": [
    "def Smith_Waterman(seq1, seq2, match_score=1, mismatch_score=-1, gap_score=-2):\n",
    "    rows = len(seq1)+1\n",
    "    cols = len(seq2)+1\n",
    "       \n",
    "    matrix = [[0 for _ in range(cols)] for _ in range(rows)]\n",
    "    \n",
    "    for i in range(1, rows):\n",
    "        for j in range(1, cols):\n",
    "            matrix[0][j] =  matrix[0][j-1] + gap_score if (matrix[0][j-1] + gap_score) >= 0 else 0\n",
    "            matrix[i][0] = matrix[i-1][0] + gap_score if (matrix[i-1][0] + gap_score) >= 0 else 0\n",
    "            matrix[0][0] = 0\n",
    "            matrix[i][j] = max((matrix[i-1][j]+gap_score), ((matrix[i-1][j-1] + match_score) if seq1[i-1]==seq2[j-1] else (matrix[i-1][j-1] + mismatch_score)), matrix[i][j-1]+gap_score)\n",
    "            if matrix[i][j] < 0:\n",
    "                matrix[i][j] = 0\n",
    "\n",
    "\n",
    "    \n",
    "    max_element = max(max(row) for row in matrix)\n",
    "    max_index = (0, 0)\n",
    "    for i in range(len(matrix)):\n",
    "        for j in range(len(matrix[i])):\n",
    "            if matrix[i][j] == max_element:\n",
    "                max_index = (i, j)\n",
    "                break\n",
    "\n",
    "    n = max_index[0]\n",
    "    m = max_index[1]\n",
    "\n",
    "    seq1_list = []\n",
    "    seq2_list = []\n",
    "\n",
    "   \n",
    "    while n > 0 and m > 0 and matrix[n][m] > 0:\n",
    "        if matrix[n][m] == matrix[n-1][m-1] + (match_score if seq1[n-1] == seq2[m-1] else mismatch_score):\n",
    "            seq1_list.append(seq1[n-1])\n",
    "            seq2_list.append(seq2[m-1])\n",
    "            n -= 1\n",
    "            m -= 1\n",
    "        \n",
    "        elif matrix[n][m] == matrix[n-1][m] + gap_score:\n",
    "            seq1_list.append(seq1[n-1])\n",
    "            seq2_list.append('-')\n",
    "            n -= 1\n",
    "        \n",
    "        elif matrix[n][m] == matrix[n][m-1] + gap_score:\n",
    "            seq1_list.append('-')\n",
    "            seq2_list.append(seq2[m-1])\n",
    "            m -= 1\n",
    "\n",
    "    return ''.join(seq1_list[::-1]), ''.join(seq2_list[::-1]), matrix"
   ]
  },
  {
   "cell_type": "code",
   "execution_count": 6,
   "metadata": {},
   "outputs": [
    {
     "data": {
      "text/plain": [
       "('TCAG',\n",
       " 'TCAG',\n",
       " [[0, 0, 0, 0, 0, 0, 0, 0, 0],\n",
       "  [0, 0, 0, 0, 3, 1, 0, 0, 0],\n",
       "  [0, 0, 3, 1, 1, 1, 4, 2, 3],\n",
       "  [0, 0, 1, 6, 4, 2, 2, 7, 5],\n",
       "  [0, 0, 0, 4, 9, 7, 5, 5, 5],\n",
       "  [0, 3, 1, 2, 7, 12, 10, 8, 6],\n",
       "  [0, 1, 1, 0, 5, 10, 10, 8, 6],\n",
       "  [0, 3, 1, 0, 3, 8, 8, 8, 6],\n",
       "  [0, 1, 6, 4, 2, 6, 11, 9, 11]])"
      ]
     },
     "execution_count": 6,
     "metadata": {},
     "output_type": "execute_result"
    }
   ],
   "source": [
    "Smith_Waterman(seq1='ATCAGAGT', seq2='GTCAGTCT', match_score=3, mismatch_score=-2, gap_score=-2)"
   ]
  },
  {
   "cell_type": "markdown",
   "metadata": {},
   "source": [
    "3. Реализованные методы в Python.\n",
    "\n",
    "    1.Библиотека Biopython. Можно использовать модуль Bio.pairwise2. В этом модуле можно выполнять как глобальное, так и локальное варывнивание (align.global--, align.local--). В методы есть две позиции - 1-я отвечает за match и mismatch (можно выставлять x- без штрафов, m - a match score is the score of identical chars, otherwise mismatch score, d - a dictionary returns the score of any pair of characters. c - callback function returns scores.)Такие же параметры есть и для gap(прописываются на втором месте)."
   ]
  },
  {
   "cell_type": "code",
   "execution_count": 7,
   "metadata": {},
   "outputs": [
    {
     "name": "stdout",
     "output_type": "stream",
     "text": [
      "AUGCUAGC-\n",
      "||||| || \n",
      "AUGCU-GCA\n",
      "  Score=7\n",
      "\n"
     ]
    },
    {
     "name": "stderr",
     "output_type": "stream",
     "text": [
      "c:\\Users\\Anastasia\\AppData\\Local\\Programs\\Python\\Python311\\Lib\\site-packages\\Bio\\pairwise2.py:278: BiopythonDeprecationWarning: Bio.pairwise2 has been deprecated, and we intend to remove it in a future release of Biopython. As an alternative, please consider using Bio.Align.PairwiseAligner as a replacement, and contact the Biopython developers if you still need the Bio.pairwise2 module.\n",
      "  warnings.warn(\n"
     ]
    }
   ],
   "source": [
    "from Bio import pairwise2\n",
    "from Bio.pairwise2 import format_alignment\n",
    "\n",
    "alignments = pairwise2.align.globalxx(rna1, rna2)\n",
    "for alignment in alignments:\n",
    "    print(format_alignment(*alignment))"
   ]
  },
  {
   "cell_type": "code",
   "execution_count": 16,
   "metadata": {},
   "outputs": [
    {
     "name": "stdout",
     "output_type": "stream",
     "text": [
      "ATCGTAGC\n",
      "||||||..\n",
      "ATCGTACG\n",
      "  Score=4\n",
      "\n"
     ]
    }
   ],
   "source": [
    "alignments = pairwise2.align.globalms(seq1, seq2, 1, -1, -2, -0.1)\n",
    "for alignment in alignments:\n",
    "    print(format_alignment(*alignment))"
   ]
  },
  {
   "cell_type": "code",
   "execution_count": 19,
   "metadata": {},
   "outputs": [
    {
     "name": "stdout",
     "output_type": "stream",
     "text": [
      "2 TCAGAGT\n",
      "  ||  |||\n",
      "2 TC--AGT\n",
      "  Score=12.9\n",
      "\n",
      "2 TCAGAGT\n",
      "  |||  ||\n",
      "2 TCA--GT\n",
      "  Score=12.9\n",
      "\n",
      "2 TCAGAGT\n",
      "  ||||  |\n",
      "2 TCAG--T\n",
      "  Score=12.9\n",
      "\n"
     ]
    }
   ],
   "source": [
    "alignments = pairwise2.align.localms('ATCAGAGT', 'GTCAGTCT', 3, -2, -2, -0.1)\n",
    "for alignment in alignments:\n",
    "    print(format_alignment(*alignment))"
   ]
  },
  {
   "cell_type": "markdown",
   "metadata": {},
   "source": [
    "**Вывод: написанный мной алгоритм Ниддлмана-Вунша и алгоритм pairwise2 дают одинаковый результат выравнивания, если выставлять скоринг в pairwaise2, то и score совпадает. Если проверить локальное выравнивание модуля pairwise2, то он выдает больше вариантов, чем написанный мною алгоритм Смита-Ватермана.**"
   ]
  },
  {
   "cell_type": "markdown",
   "metadata": {},
   "source": [
    "Проверим последовательность из пункта 1 дз:"
   ]
  },
  {
   "cell_type": "code",
   "execution_count": 21,
   "metadata": {},
   "outputs": [
    {
     "name": "stdout",
     "output_type": "stream",
     "text": [
      "CGTCTT\n",
      "|.|..|\n",
      "CATTCT\n",
      "  Score=0\n",
      "\n"
     ]
    }
   ],
   "source": [
    "my_seq1 = 'CGTCTT'\n",
    "my_seq2 = 'CATTCT'\n",
    "\n",
    "alignments = pairwise2.align.globalms(my_seq1, my_seq2, 1, -1, -2, -0.0001)\n",
    "for alignment in alignments:\n",
    "    print(format_alignment(*alignment))"
   ]
  },
  {
   "cell_type": "markdown",
   "metadata": {},
   "source": [
    "**Вывод: Алгоритм Bio.pairwise2 и мое решение совпадают**"
   ]
  },
  {
   "cell_type": "markdown",
   "metadata": {},
   "source": [
    "2. Parasail"
   ]
  },
  {
   "cell_type": "code",
   "execution_count": 67,
   "metadata": {},
   "outputs": [
    {
     "name": "stdout",
     "output_type": "stream",
     "text": [
      "20\n",
      "[23 40 23 24 23]\n",
      "0\n",
      "5\n",
      "0\n",
      "5\n"
     ]
    }
   ],
   "source": [
    "score_size = 1 # 0, use 8-bit align; 1, use 16-bit; 2, try both\n",
    "profile = parasail.ssw_init(\"GATTACA\", parasail.blosum62, score_size)\n",
    "result = parasail.ssw_profile(profile, \"GCATGCU\", 2, 1)\n",
    "print(result.score1)\n",
    "print(result.cigar)\n",
    "print(result.ref_begin1)\n",
    "print(result.ref_end1)\n",
    "print(result.read_begin1)\n",
    "print(result.read_end1)"
   ]
  },
  {
   "cell_type": "markdown",
   "metadata": {},
   "source": [
    "3. PairwiseAligner "
   ]
  },
  {
   "cell_type": "code",
   "execution_count": 80,
   "metadata": {},
   "outputs": [
    {
     "name": "stdout",
     "output_type": "stream",
     "text": [
      "target            0 G-ATTA-CA-  7\n",
      "                  0 |-||---|-- 10\n",
      "query             0 GCAT--GC-U  7\n",
      "\n",
      "target            0 G-ATTA-CA-  7\n",
      "                  0 |-|-|--|-- 10\n",
      "query             0 GCA-T-GC-U  7\n",
      "\n",
      "target            0 G-ATT-ACA-  7\n",
      "                  0 |-||---|-- 10\n",
      "query             0 GCAT-G-C-U  7\n",
      "\n",
      "target            0 G-ATT-ACA-  7\n",
      "                  0 |-|-|--|-- 10\n",
      "query             0 GCA-TG-C-U  7\n",
      "\n",
      "target            0 G-AT-TACA-  7\n",
      "                  0 |-||---|-- 10\n",
      "query             0 GCATG--C-U  7\n",
      "\n",
      "target            0 G-ATTACA- 7\n",
      "                  0 |-||.-|-- 9\n",
      "query             0 GCATG-C-U 7\n",
      "\n",
      "target            0 G-ATTACA- 7\n",
      "                  0 |-||-.|-- 9\n",
      "query             0 GCAT-GC-U 7\n",
      "\n",
      "target            0 G-ATTACA- 7\n",
      "                  0 |-|-|.|-- 9\n",
      "query             0 GCA-TGC-U 7\n",
      "\n",
      "target            0 G-ATTA-C-A  7\n",
      "                  0 |-||---|-- 10\n",
      "query             0 GCAT--GCU-  7\n",
      "\n",
      "target            0 G-ATTA-C-A  7\n",
      "                  0 |-|-|--|-- 10\n",
      "query             0 GCA-T-GCU-  7\n",
      "\n",
      "target            0 G-ATT-AC-A  7\n",
      "                  0 |-||---|-- 10\n",
      "query             0 GCAT-G-CU-  7\n",
      "\n",
      "target            0 G-ATT-AC-A  7\n",
      "                  0 |-|-|--|-- 10\n",
      "query             0 GCA-TG-CU-  7\n",
      "\n",
      "target            0 G-AT-TAC-A  7\n",
      "                  0 |-||---|-- 10\n",
      "query             0 GCATG--CU-  7\n",
      "\n",
      "target            0 G-ATTAC-A 7\n",
      "                  0 |-||.-|-- 9\n",
      "query             0 GCATG-CU- 7\n",
      "\n",
      "target            0 G-ATTAC-A 7\n",
      "                  0 |-||-.|-- 9\n",
      "query             0 GCAT-GCU- 7\n",
      "\n",
      "target            0 G-ATTAC-A 7\n",
      "                  0 |-|-|.|-- 9\n",
      "query             0 GCA-TGCU- 7\n",
      "\n",
      "target            0 G-ATTA-CA 7\n",
      "                  0 |-||---|. 9\n",
      "query             0 GCAT--GCU 7\n",
      "\n",
      "target            0 G-ATTA-CA 7\n",
      "                  0 |-|-|--|. 9\n",
      "query             0 GCA-T-GCU 7\n",
      "\n",
      "target            0 G-ATT-ACA 7\n",
      "                  0 |-||---|. 9\n",
      "query             0 GCAT-G-CU 7\n",
      "\n",
      "target            0 G-ATT-ACA 7\n",
      "                  0 |-|-|--|. 9\n",
      "query             0 GCA-TG-CU 7\n",
      "\n",
      "target            0 G-AT-TACA 7\n",
      "                  0 |-||---|. 9\n",
      "query             0 GCATG--CU 7\n",
      "\n",
      "target            0 G-ATTACA 7\n",
      "                  0 |-||.-|. 8\n",
      "query             0 GCATG-CU 7\n",
      "\n",
      "target            0 G-ATTACA 7\n",
      "                  0 |-||-.|. 8\n",
      "query             0 GCAT-GCU 7\n",
      "\n",
      "target            0 G-ATTACA 7\n",
      "                  0 |-|-|.|. 8\n",
      "query             0 GCA-TGCU 7\n",
      "\n"
     ]
    }
   ],
   "source": [
    "from Bio.Align import PairwiseAligner\n",
    "\n",
    "aligner = PairwiseAligner()\n",
    "aligner.mode = 'global'\n",
    "seq1 = \"GATTACA\"\n",
    "seq2 = \"GCATGCU\"\n",
    "alignments = aligner.align(seq1, seq2)\n",
    "\n",
    "for alignment in alignments:\n",
    "    print(alignment)"
   ]
  }
 ],
 "metadata": {
  "kernelspec": {
   "display_name": "Python 3",
   "language": "python",
   "name": "python3"
  },
  "language_info": {
   "codemirror_mode": {
    "name": "ipython",
    "version": 3
   },
   "file_extension": ".py",
   "mimetype": "text/x-python",
   "name": "python",
   "nbconvert_exporter": "python",
   "pygments_lexer": "ipython3",
   "version": "3.11.8"
  }
 },
 "nbformat": 4,
 "nbformat_minor": 2
}
