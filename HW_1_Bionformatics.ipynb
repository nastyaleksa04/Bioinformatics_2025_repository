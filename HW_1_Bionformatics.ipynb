{
 "cells": [
  {
   "cell_type": "markdown",
   "metadata": {},
   "source": [
    "ДЗ_1.БИОИНФОРМАТИКА"
   ]
  },
  {
   "cell_type": "markdown",
   "metadata": {},
   "source": [
    "Выполняется в установленной нами среде linux при помощи командной строки. \n",
    "1. Создайте 2 папки одна внутри другой :  ~/Bioinformatics_2025/hw/hw_1/ при помощи одной команды\n",
    "2. Перейдите в папку ~/Bioinformatics_2025/hw/hw_1/ и создайте в нем пустой файл my_hw_file.txt\n",
    "3. Запишите в файл строку с содержанием “It's my homework”. Можно что-то более креативное, чтобы мне было интересно проверять\n",
    "4. Переименуйте файл так, чтобы он назывался hw_file_1.txt\n",
    "5. Скопируйте файл в папку ~/homework/\n",
    "6. Удалите копию созданного файла\n",
    "7. Постройте дерево папок в вашей домашней директории (~) и припишите вывод этой команды в конец файла hw_file_1.txt. Для этого обратитесь к полезным материалам и своду команд)\n",
    "8. Припишите историю команд bash в конец файла hw_file_1.txt Для этого обратитесь к полезным материалам и своду команд)\n",
    "8*. Задание на +2 экстра балла в дз: \n",
    "Прежде чем записывать историю команд в файл - создайте новый репозиторий в гитхаб и клонируйте его к себе на компьютер, скопируйте файл hw_file_1.txt в этот репозиторий на вашем компьютере, добавьте его для отслеживания системой git командой git add hw_file_1.txt , находясь в папке репозитория. Затем зафиксируйте изменения при помощи команды git commit (см документацию https://git-scm.com/docs/git-commit). Для того, чтобы все изменения появились в репозитории на github используйте команду git push (https://git-scm.com/docs/git-push)"
   ]
  },
  {
   "cell_type": "markdown",
   "metadata": {},
   "source": [
    "1. Создадим 2 папки при помощи одной команды"
   ]
  },
  {
   "cell_type": "code",
   "execution_count": null,
   "metadata": {},
   "outputs": [],
   "source": [
    "nastyaleksa@LAPTOP-G67SK77R:~/Bioinformatics_2025$ mkdir -p hw/hw_1\n",
    "nastyaleksa@LAPTOP-G67SK77R:~/Bioinformatics_2025$ ls\n",
    "hw  renamed  seminar_1  test.py\n",
    "\n",
    "nastyaleksa@LAPTOP-G67SK77R:~/Bioinformatics_2025/hw$ ls\n",
    "hw_1"
   ]
  },
  {
   "cell_type": "markdown",
   "metadata": {},
   "source": [
    "2. Создадим в папке hw_1 файл:"
   ]
  },
  {
   "cell_type": "code",
   "execution_count": null,
   "metadata": {},
   "outputs": [],
   "source": [
    "nastyaleksa@LAPTOP-G67SK77R:~/Bioinformatics_2025/hw/hw_1$ touch my_hw_file.txt\n",
    "nastyaleksa@LAPTOP-G67SK77R:~/Bioinformatics_2025/hw/hw_1$ ls\n",
    "my_hw_file.txt"
   ]
  },
  {
   "cell_type": "markdown",
   "metadata": {},
   "source": [
    "3. Запишите в файл строку с содержанием “It's my homework”. Можно что-то более креативное, чтобы мне было интересно проверять"
   ]
  },
  {
   "cell_type": "code",
   "execution_count": null,
   "metadata": {},
   "outputs": [],
   "source": [
    "nastyaleksa@LAPTOP-G67SK77R:~/Bioinformatics_2025/hw/hw_1$ vim my_hw_file.txt\n"
   ]
  },
  {
   "cell_type": "markdown",
   "metadata": {},
   "source": [
    "Выводим, что написано в файле:\n",
    "nastyaleksa@LAPTOP-G67SK77R:~/Bioinformatics_2025/hw/hw_1$ cat -n my_hw_file.txt"
   ]
  },
  {
   "cell_type": "markdown",
   "metadata": {},
   "source": [
    "4. Переименуйте файл так, чтобы он назывался hw_file_1.txt. Для этого сначала создадим его копию с другим именем, а потом удалим предыдущий файл."
   ]
  },
  {
   "cell_type": "code",
   "execution_count": null,
   "metadata": {},
   "outputs": [],
   "source": [
    "nastyaleksa@LAPTOP-G67SK77R:~/Bioinformatics_2025/hw/hw_1$ cp my_hw_file.txt hw_file_1.txt\n",
    "nastyaleksa@LAPTOP-G67SK77R:~/Bioinformatics_2025/hw/hw_1$ rm my_hw_file.txt \n"
   ]
  },
  {
   "cell_type": "markdown",
   "metadata": {},
   "source": [
    "5. Скопируйте файл в папку ~/homework/\n",
    "\n",
    "Для этого сначала создадим папку homework."
   ]
  },
  {
   "cell_type": "code",
   "execution_count": null,
   "metadata": {},
   "outputs": [],
   "source": [
    "nastyaleksa@LAPTOP-G67SK77R:~/Bioinformatics_2025/hw/hw_1$ mkdir homework\n",
    "nastyaleksa@LAPTOP-G67SK77R:~/Bioinformatics_2025/hw/hw_1$ cp ~/Bioinformatics_2025/hw/hw_1/hw_file_1.txt ~/homework"
   ]
  },
  {
   "cell_type": "markdown",
   "metadata": {},
   "source": [
    "6. Удалим копию созданного файла"
   ]
  },
  {
   "cell_type": "code",
   "execution_count": null,
   "metadata": {},
   "outputs": [],
   "source": [
    "nastyaleksa@LAPTOP-G67SK77R:~/Bioinformatics_2025/hw/hw_1$ rm hw_file_1.txt"
   ]
  },
  {
   "cell_type": "markdown",
   "metadata": {},
   "source": [
    "7. Построим дерево папок в домашней директории (~) и припишим вывод этой команды в конец файла hw_file_1.txt. Построим дерево для всех папок из директория ~, кроме папки openbabel (очень много файлов внутри)."
   ]
  },
  {
   "cell_type": "code",
   "execution_count": null,
   "metadata": {},
   "outputs": [],
   "source": [
    "nastyaleksa@LAPTOP-G67SK77R:~/homework$ tree -I 'openbabel' ~ >> hw_file_1.txt"
   ]
  },
  {
   "cell_type": "markdown",
   "metadata": {},
   "source": [
    "8*. Создадим новый репозиторий в гитхаб и клонируем его к себе на компьютер.\n"
   ]
  },
  {
   "cell_type": "markdown",
   "metadata": {},
   "source": [
    "nastyaleksa@LAPTOP-G67SK77R:~/Bioinformatics_2025/hw/hw_1$ git clone https://github.com/nastyaleksa04/Bioinformatics_2025_repository.git"
   ]
  },
  {
   "cell_type": "markdown",
   "metadata": {},
   "source": [
    "Скопируем файл hw_file_1.txt в этот репозиторий, добавим его для отслеживания системой git командой git add hw_file_1.txt , находясь в папке репозитория."
   ]
  },
  {
   "cell_type": "markdown",
   "metadata": {},
   "source": [
    "nastyaleksa@LAPTOP-G67SK77R:~/Bioinformatics_2025/hw/hw_1$ cp ~/homework/hw_file_1.txt ~/homework/Bioinformatics_2025_repository\n",
    "nastyaleksa@LAPTOP-G67SK77R:~/Bioinformatics_2025/hw/hw_1$ git add hw_file_1.txt"
   ]
  },
  {
   "cell_type": "markdown",
   "metadata": {},
   "source": [
    "Добавим историю команд в конец файла hw_file_1.txt. Добавила только часть команд с 100 по 110 для примера."
   ]
  },
  {
   "cell_type": "markdown",
   "metadata": {},
   "source": [
    "nastyaleksa@LAPTOP-G67SK77R:~/homework/Bioinformatics_2025_repository/Bioinformatics_2025_repository$ history | sed -n '270,369p' >> hw_file_1.txt"
   ]
  },
  {
   "cell_type": "markdown",
   "metadata": {},
   "source": [
    "При помощи команды git commit зафиксируем изменения."
   ]
  },
  {
   "cell_type": "markdown",
   "metadata": {},
   "source": [
    "nastyaleksa@LAPTOP-G67SK77R:~/Bioinformatics_2025/hw/hw_1$ git commit -m \"Добавлено 1 дз по биоинформатике\""
   ]
  },
  {
   "cell_type": "markdown",
   "metadata": {},
   "source": [
    "С помощью команды git push зафиксируем изменения."
   ]
  },
  {
   "cell_type": "markdown",
   "metadata": {},
   "source": []
  }
 ],
 "metadata": {
  "language_info": {
   "name": "python"
  }
 },
 "nbformat": 4,
 "nbformat_minor": 2
}
