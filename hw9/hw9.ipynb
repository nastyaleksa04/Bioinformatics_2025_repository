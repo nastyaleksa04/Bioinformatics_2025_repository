{
 "cells": [
  {
   "cell_type": "markdown",
   "id": "4b2e8dcc-e6ef-4f7a-9b80-2e979bacd6f1",
   "metadata": {},
   "source": [
    "Задание 1:"
   ]
  },
  {
   "cell_type": "code",
   "execution_count": 1,
   "id": "26dba51e-92d3-41f1-b4cc-0ba81aff27c3",
   "metadata": {},
   "outputs": [],
   "source": [
    "import numpy as np\n",
    "import matplotlib.pyplot as plt"
   ]
  },
  {
   "cell_type": "code",
   "execution_count": 6,
   "id": "9d2c564f-e3f5-4729-904d-6899a89574a9",
   "metadata": {},
   "outputs": [
    {
     "name": "stdout",
     "output_type": "stream",
     "text": [
      "a. Квартили:\n",
      "  Q1: 73.75\n",
      "  Медиана: 79.00\n",
      "  Q3: 80.00\n",
      "\n",
      "b. IQR:\n",
      "  IQR = Q3 - Q1 = 80.00 - 73.75 = 6.25\n",
      "\n",
      "c. Статистика:\n",
      "  Минимум: 45\n",
      "  Q1: 73.75\n",
      "  Медиана: 79.00\n",
      "  Q3: 80.00\n",
      "  Максимум: 82\n",
      "\n",
      "d. Потенциальные выбросы:\n",
      "  Выбросы: [64 45 48]\n"
     ]
    }
   ],
   "source": [
    "data = np.array([79, 80, 80, 80, 74, 80, 80, 79, 64, 78, 73, 78, 74, 45, 81, 48, 80, 82, 82, 70])\n",
    "\n",
    "quartiles = np.percentile(data, [25, 50, 75])\n",
    "Q1, median, Q3 = quartiles\n",
    "\n",
    "\n",
    "IQR = Q3 - Q1\n",
    "\n",
    "\n",
    "min_val = np.min(data)\n",
    "max_val = np.max(data)\n",
    "\n",
    "\n",
    "lower_bound = Q1 - 1.5 * IQR\n",
    "upper_bound = Q3 + 1.5 * IQR\n",
    "outliers = data[(data < lower_bound) | (data > upper_bound)]\n",
    "\n",
    "\n",
    "print(\"a. Квартили:\")\n",
    "print(f\"  Q1: {Q1:.2f}\")\n",
    "print(f\"  Медиана: {median:.2f}\")\n",
    "print(f\"  Q3: {Q3:.2f}\")\n",
    "\n",
    "print(\"\\nb. IQR:\")\n",
    "print(f\"  IQR = Q3 - Q1 = {Q3:.2f} - {Q1:.2f} = {IQR:.2f}\")\n",
    "\n",
    "print(\"\\nc. Статистика:\")\n",
    "print(f\"  Минимум: {min_val}\")\n",
    "print(f\"  Q1: {Q1:.2f}\")\n",
    "print(f\"  Медиана: {median:.2f}\")\n",
    "print(f\"  Q3: {Q3:.2f}\")\n",
    "print(f\"  Максимум: {max_val}\")\n",
    "\n",
    "print(\"\\nd. Потенциальные выбросы:\")\n",
    "if len(outliers) > 0:\n",
    "    print(f\"  Выбросы: {outliers}\")"
   ]
  },
  {
   "cell_type": "code",
   "execution_count": 3,
   "id": "cdfd773a-d42b-45b7-bea5-92792eb878f7",
   "metadata": {},
   "outputs": [
    {
     "data": {
      "image/png": "[encoded data removed]",
      "text/plain": [
       "<Figure size 576x432 with 1 Axes>"
      ]
     },
     "metadata": {
      "needs_background": "light"
     },
     "output_type": "display_data"
    }
   ],
   "source": [
    "plt.figure(figsize=(8, 6))\n",
    "plt.boxplot(data, vert=True, patch_artist=True, widths=0.5)\n",
    "plt.title(\"Box plot\")\n",
    "plt.ylabel(\"Values\")\n",
    "plt.grid(True, linestyle='--', alpha=0.7)\n",
    "\n",
    "stats_text = f\"Минимум: {min_val}\\nQ1: {Q1:.1f}\\nМедиана: {median:.1f}\\nQ3: {Q3:.1f}\\nМаксимум: {max_val}\\nIQR: {IQR:.1f}\"\n",
    "plt.text(1.1, 50, stats_text, bbox=dict(facecolor='white', alpha=0.8))\n",
    "\n",
    "plt.show()"
   ]
  },
  {
   "cell_type": "markdown",
   "id": "a5d70240-df3c-470c-9234-941390e20d74",
   "metadata": {},
   "source": [
    "Задание 2:"
   ]
  },
  {
   "cell_type": "code",
   "execution_count": null,
   "id": "4df693cd-b4e0-4499-8be8-64740bf78d4f",
   "metadata": {},
   "outputs": [],
   "source": []
  }
 ],
 "metadata": {
  "kernelspec": {
   "display_name": "Python 3 (ipykernel)",
   "language": "python",
   "name": "python3"
  },
  "language_info": {
   "codemirror_mode": {
    "name": "ipython",
    "version": 3
   },
   "file_extension": ".py",
   "mimetype": "text/x-python",
   "name": "python",
   "nbconvert_exporter": "python",
   "pygments_lexer": "ipython3",
   "version": "3.8.12"
  }
 },
 "nbformat": 4,
 "nbformat_minor": 5
}
